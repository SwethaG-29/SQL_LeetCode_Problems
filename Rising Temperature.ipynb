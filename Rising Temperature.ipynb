{
 "cells": [
  {
   "cell_type": "code",
   "execution_count": null,
   "id": "d4bf7b17",
   "metadata": {},
   "outputs": [],
   "source": [
    "You are given an array of characters letters that is sorted in non-decreasing order, and a character target. There are at least two different characters in letters.\n",
    "\n",
    "Return the smallest character in letters that is lexicographically greater than target. If such a character does not exist, return the first character in letters.\n",
    "\n",
    " \n",
    "\n",
    "Example 1:\n",
    "\n",
    "Input: letters = [\"c\",\"f\",\"j\"], target = \"a\"\n",
    "Output: \"c\"\n",
    "Explanation: The smallest character that is lexicographically greater than 'a' in letters is 'c'.\n",
    "Example 2:\n",
    "\n",
    "Input: letters = [\"c\",\"f\",\"j\"], target = \"c\"\n",
    "Output: \"f\"\n",
    "Explanation: The smallest character that is lexicographically greater than 'c' in letters is 'f'.\n",
    "Example 3:\n",
    "\n",
    "Input: letters = [\"x\",\"x\",\"y\",\"y\"], target = \"z\"\n",
    "Output: \"x\"\n",
    "Explanation: There are no characters in letters that is lexicographically greater than 'z' so we return letters[0].\n",
    " \n",
    "\n",
    "Constraints:\n",
    "\n",
    "2 <= letters.length <= 104\n",
    "letters[i] is a lowercase English letter.\n",
    "letters is sorted in non-decreasing order.\n",
    "letters contains at least two different characters.\n"
   ]
  },
  {
   "cell_type": "code",
   "execution_count": null,
   "id": "b6724f20",
   "metadata": {},
   "outputs": [],
   "source": [
    "class Solution:\n",
    "    def nextGreatestLetter(self, letters: List[str], target: str) -> str:\n",
    "\n",
    "        # Binary Search \n",
    "        l = 0\n",
    "        r = len(letters) - 1\n",
    "        while l <= r:\n",
    "            mid = (l+r)//2\n",
    "            if letters[mid] > target:\n",
    "                r = mid - 1\n",
    "            else: \n",
    "                l = mid + 1\n",
    "        return  letters[l] if l < len(letters) else letters[0]\n",
    "\n",
    "\n",
    "        # # Linear Search\n",
    "        # for i in letters:\n",
    "        #     if i > target:\n",
    "        #         return i\n",
    "        \n",
    "        # return letters[0]\n",
    "        \n",
    "        "
   ]
  }
 ],
 "metadata": {
  "kernelspec": {
   "display_name": "Python 3 (ipykernel)",
   "language": "python",
   "name": "python3"
  },
  "language_info": {
   "codemirror_mode": {
    "name": "ipython",
    "version": 3
   },
   "file_extension": ".py",
   "mimetype": "text/x-python",
   "name": "python",
   "nbconvert_exporter": "python",
   "pygments_lexer": "ipython3",
   "version": "3.11.5"
  }
 },
 "nbformat": 4,
 "nbformat_minor": 5
}
